{
 "cells": [
  {
   "cell_type": "code",
   "execution_count": 2,
   "metadata": {},
   "outputs": [],
   "source": [
    "import numpy as np\n",
    "import pandas as pd\n",
    "import statsmodels.api as sm\n",
    "from statsmodels.sandbox.regression.gmm import GMM"
   ]
  },
  {
   "cell_type": "markdown",
   "metadata": {},
   "source": [
    "# PART 1"
   ]
  },
  {
   "cell_type": "markdown",
   "metadata": {},
   "source": [
    "1. Update the GMM model that we discussed in class by incorporating the δ term to the instrumental-variable moment expressions."
   ]
  },
  {
   "cell_type": "code",
   "execution_count": 9,
   "metadata": {},
   "outputs": [
    {
     "name": "stdout",
     "output_type": "stream",
     "text": [
      "Optimization terminated successfully.\n",
      "         Current function value: 0.001501\n",
      "         Iterations: 11\n",
      "         Function evaluations: 14\n",
      "         Gradient evaluations: 14\n",
      "Optimization terminated successfully.\n",
      "         Current function value: 0.088572\n",
      "         Iterations: 10\n",
      "         Function evaluations: 15\n",
      "         Gradient evaluations: 15\n",
      "Optimization terminated successfully.\n",
      "         Current function value: 0.070496\n",
      "         Iterations: 10\n",
      "         Function evaluations: 13\n",
      "         Gradient evaluations: 13\n",
      "Optimization terminated successfully.\n",
      "         Current function value: 0.038870\n",
      "         Iterations: 8\n",
      "         Function evaluations: 11\n",
      "         Gradient evaluations: 11\n",
      "Optimization terminated successfully.\n",
      "         Current function value: 0.073935\n",
      "         Iterations: 8\n",
      "         Function evaluations: 12\n",
      "         Gradient evaluations: 12\n",
      "Optimization terminated successfully.\n",
      "         Current function value: 0.096513\n",
      "         Iterations: 6\n",
      "         Function evaluations: 9\n",
      "         Gradient evaluations: 9\n",
      "Optimization terminated successfully.\n",
      "         Current function value: 0.064184\n",
      "         Iterations: 8\n",
      "         Function evaluations: 11\n",
      "         Gradient evaluations: 11\n",
      "Optimization terminated successfully.\n",
      "         Current function value: 0.046184\n",
      "         Iterations: 6\n",
      "         Function evaluations: 9\n",
      "         Gradient evaluations: 9\n",
      "Optimization terminated successfully.\n",
      "         Current function value: 0.079458\n",
      "         Iterations: 7\n",
      "         Function evaluations: 12\n",
      "         Gradient evaluations: 12\n",
      "Optimization terminated successfully.\n",
      "         Current function value: 0.089551\n",
      "         Iterations: 5\n",
      "         Function evaluations: 8\n",
      "         Gradient evaluations: 8\n",
      "Estimated Parameters: [ 0.0900356  -0.00349339 -0.38307613  0.00534069]\n",
      "Objective Function Value: 0.089550900705544\n",
      "                              BiasedGMM Results                               \n",
      "==============================================================================\n",
      "Dep. Variable:                      y   Hansen J:                        151.9\n",
      "Model:                      BiasedGMM   Prob (Hansen J):                   nan\n",
      "Method:                           GMM                                         \n",
      "Date:                Mon, 04 Nov 2024                                         \n",
      "Time:                        21:19:11                                         \n",
      "No. Observations:                1696                                         \n",
      "==============================================================================\n",
      "                 coef    std err          z      P>|z|      [0.025      0.975]\n",
      "------------------------------------------------------------------------------\n",
      "p 0            0.0900      0.029      3.124      0.002       0.034       0.147\n",
      "p 1           -0.0035      0.001     -4.621      0.000      -0.005      -0.002\n",
      "p 2           -0.3831      0.072     -5.284      0.000      -0.525      -0.241\n",
      "p 3            0.0053      0.001      5.003      0.000       0.003       0.007\n",
      "==============================================================================\n"
     ]
    }
   ],
   "source": [
    "# Load the data\n",
    "input_table = pd.read_csv('https://raw.githubusercontent.com/mn42899/predictive_modelling/refs/heads/main/midterm_partone.csv')\n",
    "\n",
    "# Define Y, X, and Z\n",
    "y_vals  = np.array(input_table[\"Stock Change\"])\n",
    "x_vals  = np.array(input_table[[\"Inventory Turnover\", \"Operating Profit\", \"Interaction Effect\"]])\n",
    "iv_vals = np.array(input_table[[\"Current Ratio\", \"Quick Ratio\", \"Debt Asset Ratio\"]])\n",
    "\n",
    "# Define the biased GMM class with delta\n",
    "class BiasedGMM(GMM):\n",
    "    def __init__(self, endog, exog, instrument, delta):\n",
    "        super().__init__(endog, exog, instrument)\n",
    "        self.delta = delta\n",
    "\n",
    "    def momcond(self, params):\n",
    "        p0, p1, p2, p3 = params\n",
    "        endog = self.endog\n",
    "        exog = self.exog\n",
    "        inst = self.instrument\n",
    "\n",
    "        # Bias term for each error condition\n",
    "        bias = self.delta * np.ones(6)  # Adjust to match six moment conditions if necessary\n",
    "        residuals = endog - (p0 + p1 * exog[:, 0] + p2 * exog[:, 1] + p3 * exog[:, 2])\n",
    "        \n",
    "        # Updated moment conditions with bias\n",
    "        error0 = residuals - bias[0]\n",
    "        error1 = residuals * exog[:, 1] - bias[1]\n",
    "        error2 = residuals * exog[:, 2] - bias[2]\n",
    "        error3 = residuals * inst[:, 0] - bias[3]\n",
    "        error4 = residuals * inst[:, 1] - bias[4]\n",
    "        error5 = residuals * inst[:, 2] - bias[5]\n",
    "\n",
    "        g = np.column_stack((error0, error1, error2, error3, error4, error5))\n",
    "        return g\n",
    "\n",
    "# Initialize the model with delta = 0.05 (adjust delta as necessary)\n",
    "delta = 0.05\n",
    "model = BiasedGMM(endog=y_vals, exog=x_vals, instrument=iv_vals, delta=delta)\n",
    "\n",
    "# Initial parameter guesses\n",
    "initial_params = np.array([0.1, 0.1, 0.1, 0.1])\n",
    "\n",
    "# Use an identity matrix as an initial weighting matrix, compatible with moment conditions\n",
    "initial_weights = np.eye(6)\n",
    "\n",
    "# Fit the model with initial parameters and weights\n",
    "res = model.fit(initial_params, inv_weights=initial_weights)\n",
    "\n",
    "# Output the results\n",
    "print(\"Estimated Parameters:\", res.params)\n",
    "print(\"Objective Function Value:\", res.q)\n",
    "\n",
    "# Print the GMM summary\n",
    "print(res.summary())"
   ]
  },
  {
   "cell_type": "markdown",
   "metadata": {},
   "source": [
    "# PART 2"
   ]
  },
  {
   "cell_type": "markdown",
   "metadata": {},
   "source": [
    "1.\tDivide the dataset equally into two as training (50%) and test (50%) sets. Use the training set to fit a logistic regression model, where the credit rating is the dependent variable. Apply the model to the test set, and report the confusion matrix, recall, precision, and F1 score values."
   ]
  },
  {
   "cell_type": "code",
   "execution_count": 6,
   "metadata": {},
   "outputs": [
    {
     "name": "stdout",
     "output_type": "stream",
     "text": [
      "Confusion Matrix:\n",
      " [[   0  577]\n",
      " [   0 3464]]\n",
      "Precision: 0.8572135609997525\n",
      "Recall: 1.0\n",
      "F1 Score: 0.9231179213857429\n"
     ]
    }
   ],
   "source": [
    "import pandas as pd\n",
    "from sklearn.model_selection import train_test_split\n",
    "from sklearn.linear_model import LogisticRegression\n",
    "from sklearn.metrics import confusion_matrix, precision_score, recall_score, f1_score\n",
    "\n",
    "# Load the dataset\n",
    "url = 'https://raw.githubusercontent.com/mn42899/predictive_modelling/refs/heads/main/midterm_parttwo.csv'\n",
    "data = pd.read_csv(url)\n",
    "\n",
    "# Convert categorical variables to numerical (if needed)\n",
    "data['Credit Rating'] = data['Credit Rating'].apply(lambda x: 1 if x == 'Positive' else 0)\n",
    "\n",
    "# Define features and target variable\n",
    "X = pd.get_dummies(data.drop('Credit Rating', axis=1), drop_first=True)\n",
    "y = data['Credit Rating']\n",
    "\n",
    "# Split the dataset into training and testing sets\n",
    "X_train, X_test, y_train, y_test = train_test_split(X, y, test_size=0.5, random_state=42)\n",
    "\n",
    "# Train logistic regression model\n",
    "model = LogisticRegression()\n",
    "model.fit(X_train, y_train)\n",
    "\n",
    "# Predict on the test set\n",
    "y_pred = model.predict(X_test)\n",
    "\n",
    "# Calculate metrics\n",
    "conf_matrix = confusion_matrix(y_test, y_pred)\n",
    "precision = precision_score(y_test, y_pred)\n",
    "recall = recall_score(y_test, y_pred)\n",
    "f1 = f1_score(y_test, y_pred)\n",
    "\n",
    "print(\"Confusion Matrix:\\n\", conf_matrix)\n",
    "print(\"Precision:\", precision)\n",
    "print(\"Recall:\", recall)\n",
    "print(\"F1 Score:\", f1)"
   ]
  },
  {
   "cell_type": "markdown",
   "metadata": {},
   "source": [
    "2. Suppose that the bank decided to make the credit approval process more challenging such that only 15% of the applications would be granted. Calculate the threshold value for the prediction probability, so only 15% of the test set would get their applications approved. Then, update your confusion matrix, recall, precision, and F1 scores. "
   ]
  },
  {
   "cell_type": "code",
   "execution_count": 7,
   "metadata": {},
   "outputs": [
    {
     "name": "stdout",
     "output_type": "stream",
     "text": [
      "\n",
      "New Confusion Matrix (15% threshold):\n",
      " [[ 495   82]\n",
      " [2938  526]]\n",
      "New Precision: 0.8651315789473685\n",
      "New Recall: 0.15184757505773672\n",
      "New F1 Score: 0.2583497053045187\n"
     ]
    }
   ],
   "source": [
    "import numpy as np\n",
    "\n",
    "# Predict probabilities instead of labels\n",
    "y_proba = model.predict_proba(X_test)[:, 1]\n",
    "\n",
    "# Calculate threshold to classify only 15% as approved\n",
    "threshold = np.percentile(y_proba, 85)\n",
    "\n",
    "# Predict with the new threshold\n",
    "y_pred_new = (y_proba >= threshold).astype(int)\n",
    "\n",
    "# Calculate metrics with the new threshold\n",
    "conf_matrix_new = confusion_matrix(y_test, y_pred_new)\n",
    "precision_new = precision_score(y_test, y_pred_new)\n",
    "recall_new = recall_score(y_test, y_pred_new)\n",
    "f1_new = f1_score(y_test, y_pred_new)\n",
    "\n",
    "print(\"\\nNew Confusion Matrix (15% threshold):\\n\", conf_matrix_new)\n",
    "print(\"New Precision:\", precision_new)\n",
    "print(\"New Recall:\", recall_new)\n",
    "print(\"New F1 Score:\", f1_new)"
   ]
  }
 ],
 "metadata": {
  "kernelspec": {
   "display_name": "Python 3",
   "language": "python",
   "name": "python3"
  },
  "language_info": {
   "codemirror_mode": {
    "name": "ipython",
    "version": 3
   },
   "file_extension": ".py",
   "mimetype": "text/x-python",
   "name": "python",
   "nbconvert_exporter": "python",
   "pygments_lexer": "ipython3",
   "version": "3.12.4"
  }
 },
 "nbformat": 4,
 "nbformat_minor": 2
}
